{
 "cells": [
  {
   "cell_type": "code",
   "execution_count": 1,
   "metadata": {
    "collapsed": false
   },
   "outputs": [
   ],
   "source": [
    "# IMPORTANT!!!\n",
    "# Desar la pràctica posant els NIUs dels membres del grup\n",
    "# És imprescindible que el worksheet es pugui avaluar completament (Cell->Run All) sense que es produeixi cap error de sintaxi. \n",
    "# Cal lliurar el worksheet ABANS de finalitzar la vostra sessió de pràctiques.\n",
    "# No s'avaluaran worksheets que no compleixin els requisits anteriors.\n",
    "\n",
    "NIU_ESTUDIANT_1 = \"\"\n",
    "NOM_ESTUDIANT_1 = \"\"\n",
    "\n",
    "NIU_ESTUDIANT_2 = \"\"\n",
    "NOM_ESTUDIANT_2 = \"\""
   ]
  },
  {
   "cell_type": "code",
   "execution_count": 2,
   "metadata": {
    "collapsed": false
   },
   "outputs": [
    {
     "name": "stdout",
     "output_type": "stream",
     "text": [
      "F2:\n",
      "Finite Field of size 2\n",
      "v:\n",
      "(1, 0, 1, 1)\n",
      "v.list():\n",
      "[1, 0, 1, 1]\n",
      "G:\n",
      "[0 1 0 1 0]\n",
      "[0 1 1 1 0]\n",
      "[0 0 1 0 1]\n",
      "[0 1 0 0 1]\n",
      "C:\n",
      "[5, 4] linear code over GF(2)\n",
      "Z2X:\n",
      "Univariate Polynomial Ring in x over Finite Field of size 2 (using GF2X)\n",
      "pX:\n",
      "x^5 + x^4 + x^2 + 1\n",
      "pX:\n",
      "x^3 + x^2 + 1\n",
      "pX.shift(2):\n",
      "x^5 + x^4 + x^2\n",
      "pX.shift(-1):\n",
      "x^2 + x\n",
      "qX:\n",
      "x^4 + x^2 + x + 1\n",
      "True\n",
      "qX.is_irreducible():\n",
      "False\n",
      "qX.factor():\n",
      "(x + 1) * (x^3 + x^2 + 1)\n",
      "C:\n",
      "[3, 2] Cyclic Code over GF(2)\n",
      "S:\n",
      "{(0, 0, 0), (1, 1, 0), (1, 0, 1), (0, 1, 1)}\n"
     ]
    }
   ],
   "source": [
    "# EXERCISE 1: Introduction to codes in sage\n",
    "\n",
    "# Necessitem definir un cos base: \n",
    "F2 = GF(2)\n",
    "print(\"F2:\")\n",
    "print(F2)\n",
    "\n",
    "# Es pot definir una paraula-codi com un vector: \n",
    "v = vector(GF(2),[1, 0, 1, 1])\n",
    "print(\"v:\")\n",
    "print(v)\n",
    "\n",
    "# I convertir un vector a una llista: \n",
    "print(\"v.list():\")\n",
    "print(v.list())\n",
    "\n",
    "# Podem definir una matriu,\n",
    "G = matrix(F2, [(0,1,0,1,0),(0,1,1,1,0),(0,0,1,0,1),(0,1,0,0,1)])\n",
    "print(\"G:\")\n",
    "print(G)\n",
    "\n",
    "# I el codi lineal amb aquesta matriu generadora: \n",
    "C = LinearCode(G)\n",
    "print(\"C:\")\n",
    "print(C)\n",
    "\n",
    "# Construcció de l’anell de polinomis sobre GF(2): \n",
    "Z2X.<x> = PolynomialRing(F2)\n",
    "print(\"Z2X:\")\n",
    "print(Z2X)\n",
    "\n",
    "# Definir un polinomi amb coeficients a GF(2): \n",
    "pX = Z2X(1+x^2+x^4+x^5)\n",
    "print(\"pX:\")\n",
    "print(pX)\n",
    "\n",
    "# Alternativament:\n",
    "pX = Z2X([1,0,1,1])\n",
    "print(\"pX:\")\n",
    "print(pX)\n",
    "\n",
    "# Desplaçament dels coeficients d’un polinomi (multiplicar per x^2): \n",
    "print(\"pX.shift(2):\")\n",
    "print(pX.shift(2))\n",
    "\n",
    "# També en l’altre sentit (dividir per x), \n",
    "print(\"pX.shift(-1):\")\n",
    "print(pX.shift(-1))\n",
    "\n",
    "# Operar amb polinomis: \n",
    "qX = pX*(x+1)\n",
    "print(\"qX:\")\n",
    "print(qX)\n",
    "\n",
    "# Comprovar si un polinomi és irreductible: \n",
    "print(pX.is_irreducible())\n",
    "print(\"qX.is_irreducible():\")\n",
    "print(qX.is_irreducible())\n",
    "\n",
    "# I si no ho és, descomposar-lo en factors: \n",
    "print(\"qX.factor():\")\n",
    "print(qX.factor())\n",
    "\n",
    "# Construir un codi cíclic de longitud 3 i polinomi generador x+1: \n",
    "C = codes.CyclicCode(x+1, 3)\n",
    "print(\"C:\")\n",
    "print(C)\n",
    "\n",
    "# Conjunt amb les paraules d'un codi cíclic\n",
    "S = set(C.list())\n",
    "print(\"S:\")\n",
    "print(S)"
   ]
  },
  {
   "cell_type": "code",
   "execution_count": 3,
   "metadata": {
    "collapsed": false
   },
   "outputs": [
   ],
   "source": [
    "# EXERCISE 2a: Implement a right cyclic shift\n",
    "\n",
    "# Function UAB_right_shift.\n",
    "# * Parameter n: Integer, number of places to shift (>= 0)\n",
    "# * Parameter L: List, list with values to shift\n",
    "# * Returns: shifted list\n",
    "#\n",
    "def UAB_right_shift(n, L):\n",
    "    #### IMPLEMENTATION GOES HERE ####\n",
    "    ##################################\n",
    "    if n >= 0:\n",
    "        n %= len(L)\n",
    "        return L[-n:] + L[:-n]\n",
    "    return None"
   ]
  },
  {
   "cell_type": "code",
   "execution_count": 4,
   "metadata": {
    "collapsed": false
   },
   "outputs": [
    {
     "data": {
      "text/plain": [
       "'length : 7, dimension: 4, minimum distance: 3'"
      ]
     },
     "execution_count": 4,
     "metadata": {
     },
     "output_type": "execute_result"
    }
   ],
   "source": [
    "# EXERCISE 2b: Generate the two codes and check they are equivalent. Show length, dimension and minimum distance of the generated code\n",
    "\n",
    "#### IMPLEMENTATION GOES HERE ####\n",
    "v   = [0,0,1,1,0,1,0]\n",
    "CC  = LinearCode(  matrix(GF(2), [UAB_right_shift(i, v) for i in range(len(v)-1)])  )\n",
    "CC2 = codes.CyclicCode(1+x+x^3, 7)\n",
    "\n",
    "assert(set(CC.list()) == set(CC2.list()))\n",
    "f\"length : {CC.length()}, dimension: {CC.dimension()}, minimum distance: {CC.minimum_distance()}\"\n",
    "##################################"
   ]
  },
  {
   "cell_type": "code",
   "execution_count": 17,
   "metadata": {
    "collapsed": false
   },
   "outputs": [
    {
     "data": {
      "text/plain": [
       "'Existeix un codi lineal si x^15 + 1 % g(x) == 0 -> x^15 + 1 % 1+x+x^4 : 0   ;   x^15 + 1 % 1+x^2+x^3: x + 1, per tant, g_1(x) existeix y g_2(x) no'"
      ]
     },
     "execution_count": 17,
     "metadata": {
     },
     "output_type": "execute_result"
    }
   ],
   "source": [
    "# EXERCISE 3: Check code existence\n",
    "\n",
    "#### IMPLEMENTATION GOES HERE ####\n",
    "n = 15\n",
    "f'Existeix un codi lineal si {x^n+1} % g(x) == 0 -> {x^n+1} % 1+x+x^4 : {Z2X(1+x^n) % Z2X(1+x+x^4)}   ;   {x^n+1} % 1+x^2+x^3: {Z2X(1+x^n) % Z2X(1+x^2+x^3)}, per tant, g_1(x) existeix y g_2(x) no'\n",
    "################################"
   ]
  },
  {
   "cell_type": "code",
   "execution_count": 6,
   "metadata": {
    "collapsed": false
   },
   "outputs": [
    {
     "data": {
      "text/plain": [
       "32"
      ]
     },
     "execution_count": 6,
     "metadata": {
     },
     "output_type": "execute_result"
    }
   ],
   "source": [
    "# EXERCISE 4: How many cíclic binary codes with length 15 exist?\n",
    "\n",
    "#### IMPLEMENTATION GOES HERE ####\n",
    "2**len(factor(Z2X(1+x^15)))\n",
    "################################"
   ]
  },
  {
   "cell_type": "code",
   "execution_count": 7,
   "metadata": {
    "collapsed": false,
    "scrolled": true
   },
   "outputs": [
    {
     "data": {
      "text/plain": [
       "x^3 + 1"
      ]
     },
     "execution_count": 7,
     "metadata": {
     },
     "output_type": "execute_result"
    }
   ],
   "source": [
    "# EXERCISE 5: Which is the smallest ciclic code of length 15 that contains the given code-word?\n",
    "#### IMPLEMENTATION GOES HERE ####\n",
    "v   = [1,1,0,1,1,0,0,0,0,0,0,0,0,0,0]\n",
    "Z2X(v).gcd(1+x^len(v))\n",
    "################################"
   ]
  },
  {
   "cell_type": "code",
   "execution_count": 8,
   "metadata": {
    "collapsed": false
   },
   "outputs": [
    {
     "name": "stdout",
     "output_type": "stream",
     "text": [
      "h(x)  = x^11 + x^8 + x^7 + x^5 + x^3 + x^2 + x + 1\n",
      "h*(x) = x^11 + x^10 + x^9 + x^8 + x^6 + x^4 + x^3 + 1\n"
     ]
    }
   ],
   "source": [
    "# EXERCISE 6: Compute h(x), h*(x)\n",
    "\n",
    "#### IMPLEMENTATION GOES HERE ####\n",
    "h   = Z2X(1+x^15)/Z2X(1+x+x^4)\n",
    "h_r = Z2X(Z2X(h).list()[::-1])\n",
    "print(f'h(x)  = {h}\\nh*(x) = {h_r}')\n",
    "\n",
    "################################"
   ]
  },
  {
   "cell_type": "code",
   "execution_count": 9,
   "metadata": {
    "collapsed": false
   },
   "outputs": [
   ],
   "source": [
    "# EXERCISE 7a: Compute the generator matrix\n",
    "\n",
    "# Function UAB_gen_matrix.\n",
    "# * Parameter g: generator polynomial\n",
    "# * Parameter n: Integer, length of the code\n",
    "# * Returns: generator matrix\n",
    "#\n",
    "\n",
    "def UAB_gen_matrix(g, n):\n",
    "    #### IMPLEMENTATION GOES HERE ####\n",
    "    gx  = g.list()\n",
    "    s = n - len(gx)\n",
    "    gx += [0 for _ in range(s)]\n",
    "    G = matrix([UAB_right_shift(i,gx) for i in range(s+1)])\n",
    "    ##################################\n",
    "    return G"
   ]
  },
  {
   "cell_type": "code",
   "execution_count": 10,
   "metadata": {
    "collapsed": false
   },
   "outputs": [
    {
     "name": "stdout",
     "output_type": "stream",
     "text": [
      "[1 1 0 0 1 0 0 0 0 0 0 0 0 0 0]\n",
      "[0 1 1 0 0 1 0 0 0 0 0 0 0 0 0]\n",
      "[0 0 1 1 0 0 1 0 0 0 0 0 0 0 0]\n",
      "[0 0 0 1 1 0 0 1 0 0 0 0 0 0 0]\n",
      "[0 0 0 0 1 1 0 0 1 0 0 0 0 0 0]\n",
      "[0 0 0 0 0 1 1 0 0 1 0 0 0 0 0]\n",
      "[0 0 0 0 0 0 1 1 0 0 1 0 0 0 0]\n",
      "[0 0 0 0 0 0 0 1 1 0 0 1 0 0 0]\n",
      "[0 0 0 0 0 0 0 0 1 1 0 0 1 0 0]\n",
      "[0 0 0 0 0 0 0 0 0 1 1 0 0 1 0]\n",
      "[0 0 0 0 0 0 0 0 0 0 1 1 0 0 1]\n"
     ]
    },
    {
     "data": {
      "text/plain": [
       "[1 0 0 1 1 1 1 0 0 0 0 0 0 0 0]\n",
       "[0 1 0 0 1 1 1 1 0 0 0 0 0 0 0]\n",
       "[0 0 1 0 0 1 1 1 1 0 0 0 0 0 0]\n",
       "[0 0 0 1 0 0 1 1 1 1 0 0 0 0 0]\n",
       "[0 0 0 0 1 0 0 1 1 1 1 0 0 0 0]\n",
       "[0 0 0 0 0 1 0 0 1 1 1 1 0 0 0]\n",
       "[0 0 0 0 0 0 1 0 0 1 1 1 1 0 0]\n",
       "[0 0 0 0 0 0 0 1 0 0 1 1 1 1 0]\n",
       "[0 0 0 0 0 0 0 0 1 0 0 1 1 1 1]"
      ]
     },
     "execution_count": 10,
     "metadata": {
     },
     "output_type": "execute_result"
    }
   ],
   "source": [
    "# EXERCISE 7b: Compute the generator matrix of the given polynomials\n",
    "\n",
    "#### IMPLEMENTATION GOES HERE ####\n",
    "print(UAB_gen_matrix(Z2X(1+x+x^4),15))\n",
    "UAB_gen_matrix(Z2X(1+x^3+x^4+x^5+x^6),15)\n",
    "##################################"
   ]
  },
  {
   "cell_type": "code",
   "execution_count": 11,
   "metadata": {
    "collapsed": false
   },
   "outputs": [
   ],
   "source": [
    "# EXERCISE 8a: Compute the control matrix\n",
    "\n",
    "# Function UAB_con_matrix.\n",
    "# * Parameter g: generator polynomial\n",
    "# * Parameter n: Integer, length of the code\n",
    "# * Returns: control matrix\n",
    "#\n",
    "\n",
    "def UAB_con_matrix(g, n):\n",
    "    #### IMPLEMENTATION GOES HERE ####\n",
    "    h   = Z2X(1+x^n)/g\n",
    "    h_r = Z2X(Z2X(h).list()[::-1]).list()\n",
    "    s = n - len(h_r)\n",
    "    h_r += [0 for _ in range(s)]\n",
    "    H = matrix([UAB_right_shift(i,h_r) for i in range(s+1)])\n",
    "    ##################################\n",
    "    \n",
    "    return H"
   ]
  },
  {
   "cell_type": "code",
   "execution_count": 12,
   "metadata": {
    "collapsed": false
   },
   "outputs": [
    {
     "name": "stdout",
     "output_type": "stream",
     "text": [
      "[1 0 0 1 1 0 1 0 1 1 1 1 0 0 0]\n",
      "[0 1 0 0 1 1 0 1 0 1 1 1 1 0 0]\n",
      "[0 0 1 0 0 1 1 0 1 0 1 1 1 1 0]\n",
      "[0 0 0 1 0 0 1 1 0 1 0 1 1 1 1]\n"
     ]
    },
    {
     "data": {
      "text/plain": [
       "[1 1 0 0 1 1 1 0 0 1 0 0 0 0 0]\n",
       "[0 1 1 0 0 1 1 1 0 0 1 0 0 0 0]\n",
       "[0 0 1 1 0 0 1 1 1 0 0 1 0 0 0]\n",
       "[0 0 0 1 1 0 0 1 1 1 0 0 1 0 0]\n",
       "[0 0 0 0 1 1 0 0 1 1 1 0 0 1 0]\n",
       "[0 0 0 0 0 1 1 0 0 1 1 1 0 0 1]"
      ]
     },
     "execution_count": 12,
     "metadata": {
     },
     "output_type": "execute_result"
    }
   ],
   "source": [
    "# EXERCISE 8b: Compute the control matrix of the given polynomials\n",
    "\n",
    "#### IMPLEMENTATION GOES HERE ####\n",
    "print(UAB_con_matrix(Z2X(1+x+x^4),15))\n",
    "UAB_con_matrix(Z2X(1+x^3+x^4+x^5+x^6),15)\n",
    "##################################"
   ]
  },
  {
   "cell_type": "code",
   "execution_count": 13,
   "metadata": {
    "collapsed": false
   },
   "outputs": [
    {
     "name": "stdout",
     "output_type": "stream",
     "text": [
      "Test 2a.1: True\n",
      "Test 2a.2: True\n",
      "Test 2a.3: True\n",
      "Test 2a.4: True\n",
      "Test 2a.5: True\n",
      "Test 2a.6: True\n",
      "Test 2a.7: True\n",
      "Test 2a.8: True\n",
      "Test 2a.9: True\n",
      "Test 2a.10: True\n",
      "Test 2a.11: True\n",
      "Test 2a.12: True\n"
     ]
    }
   ],
   "source": [
    "####################################################################################\n",
    "# TEST CASES EXERCICE 2a\n",
    "####################################################################################\n",
    "\n",
    "def test_case_2a(name, n, L, exp_output):\n",
    "    r = UAB_right_shift(n, L)\n",
    "    print(\"Test\", name + \":\", exp_output == r)\n",
    "\n",
    "\n",
    "test_case_2a(\"2a.1\", 1, [1,1,1,1,1,1,0], [0,1,1,1,1,1,1]) \n",
    "test_case_2a(\"2a.2\", 2, [1,1,1,1,1,1,0], [1,0,1,1,1,1,1]) \n",
    "test_case_2a(\"2a.3\", 3, [1,1,1,1,1,1,0], [1,1,0,1,1,1,1]) \n",
    "test_case_2a(\"2a.4\", 4, [1,1,1,1,1,1,0], [1,1,1,0,1,1,1]) \n",
    "test_case_2a(\"2a.5\", 5, [1,1,1,1,1,1,0], [1,1,1,1,0,1,1]) \n",
    "test_case_2a(\"2a.6\", 6, [1,1,1,1,1,1,0], [1,1,1,1,1,0,1]) \n",
    "test_case_2a(\"2a.7\", 7, [1,1,1,1,1,1,0], [1,1,1,1,1,1,0]) \n",
    "test_case_2a(\"2a.8\", 5, [1,0,1,0,0,1,0,0,0], [0, 1, 0, 0, 0, 1, 0, 1, 0]) \n",
    "test_case_2a(\"2a.9\", 3, [1,0,1,0,0,1,0,0,0], [0, 0, 0, 1, 0, 1, 0, 0, 1]) \n",
    "test_case_2a(\"2a.10\", 0, [1,0,1,0,0,1,0,0,0], [1, 0, 1, 0, 0, 1, 0, 0, 0]) \n",
    "test_case_2a(\"2a.11\", 9, [1,0,1,0,0,1,0,0,0], [1, 0, 1, 0, 0, 1, 0, 0, 0]) \n",
    "test_case_2a(\"2a.12\", 10, [1,0,1,0,0,1,0,0,0,1,1,1,1,1,0,0,0,1], [0, 1, 1, 1, 1, 1, 0, 0, 0, 1, 1, 0, 1, 0, 0, 1, 0, 0])"
   ]
  },
  {
   "cell_type": "code",
   "execution_count": 14,
   "metadata": {
    "collapsed": false
   },
   "outputs": [
    {
     "name": "stdout",
     "output_type": "stream",
     "text": [
      "Test 7a.1: True\n",
      "Test 7a.2: True\n",
      "Test 7a.3: True\n",
      "Test 7a.4: True\n"
     ]
    }
   ],
   "source": [
    "####################################################################################\n",
    "# TEST CASES EXERCICE 7a\n",
    "####################################################################################\n",
    "\n",
    "def test_case_7a(name, g, n, exp_output):\n",
    "    r = UAB_gen_matrix(g, n)\n",
    "    print(\"Test\", name + \":\", exp_output == r)\n",
    "\n",
    "exp = matrix(GF(2), [[1,1,0,0,0,0,0,0,0,0,0,0,0,0,0],[0,1,1,0,0,0,0,0,0,0,0,0,0,0,0],[0,0,1,1,0,0,0,0,0,0,0,0,0,0,0],[0,0,0,1,1,0,0,0,0,0,0,0,0,0,0],[0,0,0,0,1,1,0,0,0,0,0,0,0,0,0],[0,0,0,0,0,1,1,0,0,0,0,0,0,0,0],[0,0,0,0,0,0,1,1,0,0,0,0,0,0,0],[0,0,0,0,0,0,0,1,1,0,0,0,0,0,0],[0,0,0,0,0,0,0,0,1,1,0,0,0,0,0],[0,0,0,0,0,0,0,0,0,1,1,0,0,0,0],[0,0,0,0,0,0,0,0,0,0,1,1,0,0,0],[0,0,0,0,0,0,0,0,0,0,0,1,1,0,0],[0,0,0,0,0,0,0,0,0,0,0,0,1,1,0],[0,0,0,0,0,0,0,0,0,0,0,0,0,1,1]])\n",
    "test_case_7a(\"7a.1\", Z2X(x+1), 15, exp) \n",
    "\n",
    "exp = matrix(GF(2), [[1,1,0,0,1,0,0,0,0,0,0,0,0,0,0],[0,1,1,0,0,1,0,0,0,0,0,0,0,0,0],[0,0,1,1,0,0,1,0,0,0,0,0,0,0,0],[0,0,0,1,1,0,0,1,0,0,0,0,0,0,0],[0,0,0,0,1,1,0,0,1,0,0,0,0,0,0],[0,0,0,0,0,1,1,0,0,1,0,0,0,0,0],[0,0,0,0,0,0,1,1,0,0,1,0,0,0,0],[0,0,0,0,0,0,0,1,1,0,0,1,0,0,0],[0,0,0,0,0,0,0,0,1,1,0,0,1,0,0],[0,0,0,0,0,0,0,0,0,1,1,0,0,1,0],[0,0,0,0,0,0,0,0,0,0,1,1,0,0,1]])\n",
    "test_case_7a(\"7a.2\", Z2X(x^4 + x + 1), 15, exp)\n",
    "\n",
    "exp = matrix(GF(2), [[1,0,0,1,1,0,0,0,0,0,0,0,0,0,0],[0,1,0,0,1,1,0,0,0,0,0,0,0,0,0],[0,0,1,0,0,1,1,0,0,0,0,0,0,0,0],[0,0,0,1,0,0,1,1,0,0,0,0,0,0,0],[0,0,0,0,1,0,0,1,1,0,0,0,0,0,0],[0,0,0,0,0,1,0,0,1,1,0,0,0,0,0],[0,0,0,0,0,0,1,0,0,1,1,0,0,0,0],[0,0,0,0,0,0,0,1,0,0,1,1,0,0,0],[0,0,0,0,0,0,0,0,1,0,0,1,1,0,0],[0,0,0,0,0,0,0,0,0,1,0,0,1,1,0],[0,0,0,0,0,0,0,0,0,0,1,0,0,1,1]])\n",
    "test_case_7a(\"7a.3\", Z2X(x^4 + x^3 + 1), 15, exp) \n",
    "\n",
    "exp = matrix(GF(2), [[1,0,1,0,1,1,1,0,0,0,0,0,0,0,0,0,0,0,0,0,0],[0,1,0,1,0,1,1,1,0,0,0,0,0,0,0,0,0,0,0,0,0],[0,0,1,0,1,0,1,1,1,0,0,0,0,0,0,0,0,0,0,0,0],[0,0,0,1,0,1,0,1,1,1,0,0,0,0,0,0,0,0,0,0,0],[0,0,0,0,1,0,1,0,1,1,1,0,0,0,0,0,0,0,0,0,0],[0,0,0,0,0,1,0,1,0,1,1,1,0,0,0,0,0,0,0,0,0],[0,0,0,0,0,0,1,0,1,0,1,1,1,0,0,0,0,0,0,0,0],[0,0,0,0,0,0,0,1,0,1,0,1,1,1,0,0,0,0,0,0,0],[0,0,0,0,0,0,0,0,1,0,1,0,1,1,1,0,0,0,0,0,0],[0,0,0,0,0,0,0,0,0,1,0,1,0,1,1,1,0,0,0,0,0],[0,0,0,0,0,0,0,0,0,0,1,0,1,0,1,1,1,0,0,0,0],[0,0,0,0,0,0,0,0,0,0,0,1,0,1,0,1,1,1,0,0,0],[0,0,0,0,0,0,0,0,0,0,0,0,1,0,1,0,1,1,1,0,0],[0,0,0,0,0,0,0,0,0,0,0,0,0,1,0,1,0,1,1,1,0],[0,0,0,0,0,0,0,0,0,0,0,0,0,0,1,0,1,0,1,1,1]])\n",
    "test_case_7a(\"7a.4\", Z2X(x^6 + x^5 + x^4 + x^2 + 1), 21, exp)"
   ]
  },
  {
   "cell_type": "code",
   "execution_count": 15,
   "metadata": {
    "collapsed": false
   },
   "outputs": [
    {
     "name": "stdout",
     "output_type": "stream",
     "text": [
      "Test 8a.1: True\n",
      "Test 8a.2: True\n",
      "Test 8a.3: True\n",
      "Test 8a.4: True\n"
     ]
    }
   ],
   "source": [
    "####################################################################################\n",
    "# TEST CASES EXERCICE 8a\n",
    "####################################################################################\n",
    "\n",
    "def test_case_8a(name, g, n, exp_output):\n",
    "    r = UAB_con_matrix(g, n)\n",
    "    print(\"Test\", name + \":\", exp_output == r)\n",
    "\n",
    "exp = matrix(GF(2), [1,1,1,1,1,1,1,1,1,1,1,1,1,1,1])\n",
    "test_case_8a(\"8a.1\", Z2X(x+1), 15, exp)\n",
    "\n",
    "exp = matrix(GF(2), [[1,0,0,1,1,0,1,0,1,1,1,1,0,0,0],[0,1,0,0,1,1,0,1,0,1,1,1,1,0,0],[0,0,1,0,0,1,1,0,1,0,1,1,1,1,0],[0,0,0,1,0,0,1,1,0,1,0,1,1,1,1]])\n",
    "test_case_8a(\"8a.2\", Z2X(x^4 + x + 1), 15, exp)\n",
    "\n",
    "exp = matrix(GF(2), [[1,1,1,1,0,1,0,1,1,0,0,1,0,0,0],[0,1,1,1,1,0,1,0,1,1,0,0,1,0,0],[0,0,1,1,1,1,0,1,0,1,1,0,0,1,0],[0,0,0,1,1,1,1,0,1,0,1,1,0,0,1]])\n",
    "test_case_8a(\"8a.3\", Z2X(x^4 + x^3 + 1), 15, exp)\n",
    "\n",
    "exp = matrix(GF(2), [[1,1,0,1,0,0,1,1,0,0,1,0,0,1,0,1,0,0,0,0,0],[0,1,1,0,1,0,0,1,1,0,0,1,0,0,1,0,1,0,0,0,0],[0,0,1,1,0,1,0,0,1,1,0,0,1,0,0,1,0,1,0,0,0],[0,0,0,1,1,0,1,0,0,1,1,0,0,1,0,0,1,0,1,0,0],[0,0,0,0,1,1,0,1,0,0,1,1,0,0,1,0,0,1,0,1,0],[0,0,0,0,0,1,1,0,1,0,0,1,1,0,0,1,0,0,1,0,1]])\n",
    "test_case_8a(\"8a.4\", Z2X(x^6 + x^5 + x^4 + x^2 + 1), 21, exp)"
   ]
  }
 ],
 "metadata": {
  "kernelspec": {
   "display_name": "SageMath 9.7",
   "language": "sagemath",
   "metadata": {
    "cocalc": {
     "description": "Open-source mathematical software system",
     "priority": 10,
     "url": "https://www.sagemath.org/"
    }
   },
   "name": "sage-9.7",
   "resource_dir": "/ext/jupyter/kernels/sage-9.7"
  },
  "language_info": {
   "codemirror_mode": {
    "name": "ipython",
    "version": 3
   },
   "file_extension": ".py",
   "mimetype": "text/x-python",
   "name": "python",
   "nbconvert_exporter": "python",
   "pygments_lexer": "ipython3",
   "version": "3.10.5"
  }
 },
 "nbformat": 4,
 "nbformat_minor": 4
}